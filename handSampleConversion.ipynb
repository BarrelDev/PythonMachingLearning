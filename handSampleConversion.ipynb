{
  "nbformat": 4,
  "nbformat_minor": 0,
  "metadata": {
    "colab": {
      "name": "handSampleConversion.ipynb",
      "provenance": [],
      "collapsed_sections": [],
      "authorship_tag": "ABX9TyNscYWS/VQTcgpslXsmBtCk",
      "include_colab_link": true
    },
    "kernelspec": {
      "name": "python3",
      "display_name": "Python 3"
    },
    "language_info": {
      "name": "python"
    }
  },
  "cells": [
    {
      "cell_type": "markdown",
      "metadata": {
        "id": "view-in-github",
        "colab_type": "text"
      },
      "source": [
        "<a href=\"https://colab.research.google.com/github/BarrelDev/PythonMachingLearning/blob/main/handSampleConversion.ipynb\" target=\"_parent\"><img src=\"https://colab.research.google.com/assets/colab-badge.svg\" alt=\"Open In Colab\"/></a>"
      ]
    },
    {
      "cell_type": "code",
      "metadata": {
        "id": "NcUlDi32Za-c"
      },
      "source": [
        "from PIL import Image\n",
        "import numpy as np\n",
        "from matplotlib import pyplot as plt\n",
        "from os import walk"
      ],
      "execution_count": null,
      "outputs": []
    },
    {
      "cell_type": "code",
      "metadata": {
        "id": "x1g9xGpsZip-"
      },
      "source": [
        "img = Image.open(\"/content/img399.png\")\n",
        "np_img = np.asarray(img)"
      ],
      "execution_count": null,
      "outputs": []
    },
    {
      "cell_type": "code",
      "metadata": {
        "colab": {
          "base_uri": "https://localhost:8080/"
        },
        "id": "Cofj00A_aChh",
        "outputId": "bd4dcc43-cfdc-44a9-91e1-a004cc184ea2"
      },
      "source": [
        "np_img.shape"
      ],
      "execution_count": null,
      "outputs": [
        {
          "output_type": "execute_result",
          "data": {
            "text/plain": [
              "(36, 48, 3)"
            ]
          },
          "metadata": {},
          "execution_count": 5
        }
      ]
    },
    {
      "cell_type": "code",
      "metadata": {
        "colab": {
          "base_uri": "https://localhost:8080/"
        },
        "id": "9psm5dZfaD2Q",
        "outputId": "ab1c122e-f909-4fe7-f388-31c143576328"
      },
      "source": [
        "np_img.view"
      ],
      "execution_count": null,
      "outputs": [
        {
          "output_type": "execute_result",
          "data": {
            "text/plain": [
              "<function ndarray.view>"
            ]
          },
          "metadata": {},
          "execution_count": 6
        }
      ]
    },
    {
      "cell_type": "code",
      "metadata": {
        "colab": {
          "base_uri": "https://localhost:8080/"
        },
        "id": "NS2i3KjmaJ-s",
        "outputId": "e3a013c4-4195-4e79-b153-f1335a4e8777"
      },
      "source": [
        "print(np_img)"
      ],
      "execution_count": null,
      "outputs": [
        {
          "output_type": "stream",
          "text": [
            "[[[112 112 112]\n",
            "  [ 93  93  93]\n",
            "  [ 84  84  84]\n",
            "  ...\n",
            "  [162 162 162]\n",
            "  [170 170 170]\n",
            "  [170 170 170]]\n",
            "\n",
            " [[118 118 118]\n",
            "  [ 96  96  96]\n",
            "  [ 81  81  81]\n",
            "  ...\n",
            "  [169 169 169]\n",
            "  [169 169 169]\n",
            "  [177 177 177]]\n",
            "\n",
            " [[120 120 120]\n",
            "  [ 96  96  96]\n",
            "  [ 80  80  80]\n",
            "  ...\n",
            "  [169 169 169]\n",
            "  [176 176 176]\n",
            "  [181 181 181]]\n",
            "\n",
            " ...\n",
            "\n",
            " [[ 32  32  32]\n",
            "  [ 29  29  29]\n",
            "  [ 36  36  36]\n",
            "  ...\n",
            "  [248 248 248]\n",
            "  [252 252 252]\n",
            "  [253 253 253]]\n",
            "\n",
            " [[ 37  37  37]\n",
            "  [ 25  25  25]\n",
            "  [ 29  29  29]\n",
            "  ...\n",
            "  [249 249 249]\n",
            "  [253 253 253]\n",
            "  [253 253 253]]\n",
            "\n",
            " [[ 48  48  48]\n",
            "  [ 19  19  19]\n",
            "  [ 24  24  24]\n",
            "  ...\n",
            "  [ 50  50  50]\n",
            "  [ 33  33  33]\n",
            "  [ 30  30  30]]]\n"
          ],
          "name": "stdout"
        }
      ]
    },
    {
      "cell_type": "code",
      "metadata": {
        "colab": {
          "base_uri": "https://localhost:8080/",
          "height": 283
        },
        "id": "ednVWxHWaNXv",
        "outputId": "464bdc1d-2fe2-4539-b16d-336c09eb24f1"
      },
      "source": [
        "np_img2 = np.delete(np_img, 2, 2)\n",
        "np_img2 = np.delete(np_img2, 1, 2)\n",
        "np_img2 = np_img2.reshape((36,48))\n",
        "plt.imshow(np_img2)"
      ],
      "execution_count": null,
      "outputs": [
        {
          "output_type": "execute_result",
          "data": {
            "text/plain": [
              "<matplotlib.image.AxesImage at 0x7f66012f3710>"
            ]
          },
          "metadata": {},
          "execution_count": 66
        },
        {
          "output_type": "display_data",
          "data": {
            "image/png": "[encoded data removed]",
            "text/plain": [
              "<Figure size 432x288 with 1 Axes>"
            ]
          },
          "metadata": {
            "needs_background": "light"
          }
        }
      ]
    },
    {
      "cell_type": "code",
      "metadata": {
        "id": "YGtcq9ocata4",
        "colab": {
          "base_uri": "https://localhost:8080/"
        },
        "outputId": "f49cdcb1-3211-46d5-b605-127159d240c0"
      },
      "source": [
        "print(np_img2)"
      ],
      "execution_count": null,
      "outputs": [
        {
          "output_type": "stream",
          "text": [
            "[[[112]\n",
            "  [ 93]\n",
            "  [ 84]\n",
            "  ...\n",
            "  [162]\n",
            "  [170]\n",
            "  [170]]\n",
            "\n",
            " [[118]\n",
            "  [ 96]\n",
            "  [ 81]\n",
            "  ...\n",
            "  [169]\n",
            "  [169]\n",
            "  [177]]\n",
            "\n",
            " [[120]\n",
            "  [ 96]\n",
            "  [ 80]\n",
            "  ...\n",
            "  [169]\n",
            "  [176]\n",
            "  [181]]\n",
            "\n",
            " ...\n",
            "\n",
            " [[ 32]\n",
            "  [ 29]\n",
            "  [ 36]\n",
            "  ...\n",
            "  [248]\n",
            "  [252]\n",
            "  [253]]\n",
            "\n",
            " [[ 37]\n",
            "  [ 25]\n",
            "  [ 29]\n",
            "  ...\n",
            "  [249]\n",
            "  [253]\n",
            "  [253]]\n",
            "\n",
            " [[ 48]\n",
            "  [ 19]\n",
            "  [ 24]\n",
            "  ...\n",
            "  [ 50]\n",
            "  [ 33]\n",
            "  [ 30]]]\n"
          ],
          "name": "stdout"
        }
      ]
    },
    {
      "cell_type": "code",
      "metadata": {
        "colab": {
          "base_uri": "https://localhost:8080/",
          "height": 163
        },
        "id": "nPujLHolnj2O",
        "outputId": "a930ce72-c748-40f1-a7fe-b4d44d1d0140"
      },
      "source": [
        "np_img2.shape"
      ],
      "execution_count": 1,
      "outputs": [
        {
          "output_type": "error",
          "ename": "NameError",
          "evalue": "ignored",
          "traceback": [
            "\u001b[0;31m---------------------------------------------------------------------------\u001b[0m",
            "\u001b[0;31mNameError\u001b[0m                                 Traceback (most recent call last)",
            "\u001b[0;32m<ipython-input-1-9e7a392fb5a0>\u001b[0m in \u001b[0;36m<module>\u001b[0;34m()\u001b[0m\n\u001b[0;32m----> 1\u001b[0;31m \u001b[0mnp_img2\u001b[0m\u001b[0;34m.\u001b[0m\u001b[0mshape\u001b[0m\u001b[0;34m\u001b[0m\u001b[0;34m\u001b[0m\u001b[0m\n\u001b[0m",
            "\u001b[0;31mNameError\u001b[0m: name 'np_img2' is not defined"
          ]
        }
      ]
    },
    {
      "cell_type": "code",
      "metadata": {
        "id": "MdJ5H7haau2X"
      },
      "source": [
        "mypath = \"/content/handPos1Gray\"\n",
        "f = []\n",
        "for (dirpath, dirnames, filenames) in walk(mypath):\n",
        "    f.extend(filenames)\n",
        "\n",
        "for i in f:\n",
        "    image = Image.open(\"C:\\\\Users\\\\visva\\\\Desktop\\\\hand maching\\\\handPos5Gray\\\\\"+ i)\n",
        "    resize = Image.open(image, (48, 36), interpolation = cv2.INTER_CUBIC)\n",
        "    cv2.imwrite(\"C:\\\\Users\\\\visva\\\\Desktop\\\\hand maching\\\\handPos5Gray\\\\\"+ i, resize)"
      ],
      "execution_count": null,
      "outputs": []
    }
  ]
}